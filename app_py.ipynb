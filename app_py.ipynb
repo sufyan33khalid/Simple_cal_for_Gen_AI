{
  "cells": [
    {
      "cell_type": "markdown",
      "metadata": {
        "id": "view-in-github",
        "colab_type": "text"
      },
      "source": [
        "<a href=\"https://colab.research.google.com/github/sufyan33khalid/Simple_cal_for_Gen_AI/blob/main/app_py.ipynb\" target=\"_parent\"><img src=\"https://colab.research.google.com/assets/colab-badge.svg\" alt=\"Open In Colab\"/></a>"
      ]
    },
    {
      "cell_type": "code",
      "execution_count": null,
      "metadata": {
        "colab": {
          "background_save": true,
          "base_uri": "https://localhost:8080/"
        },
        "id": "_dVQNWam8QNW",
        "outputId": "07878270-20f4-4e69-ce87-90bfa269b671"
      },
      "outputs": [
        {
          "name": "stdout",
          "output_type": "stream",
          "text": [
            "Select operation:\n",
            "1. Add\n",
            "2. Subtract\n",
            "3. Multiply\n",
            "4. Divide\n"
          ]
        }
      ],
      "source": [
        "import streamlit as st\n",
        "\n",
        "# Streamlit Calculator App\n",
        "def main():\n",
        "    st.title(\"Simple Calculator\")\n",
        "\n",
        "    # Select operation\n",
        "    operation = st.selectbox(\"Choose an operation\", [\"Addition\", \"Subtraction\", \"Multiplication\", \"Division\"])\n",
        "\n",
        "    # Input fields for numbers\n",
        "    num1 = st.number_input(\"Enter first number\", value=0.0, format=\"%f\")\n",
        "    num2 = st.number_input(\"Enter second number\", value=0.0, format=\"%f\")\n",
        "\n",
        "    result = None\n",
        "\n",
        "    # Perform calculation based on the selected operation\n",
        "    if operation == \"Addition\":\n",
        "        result = num1 + num2\n",
        "    elif operation == \"Subtraction\":\n",
        "        result = num1 - num2\n",
        "    elif operation == \"Multiplication\":\n",
        "        result = num1 * num2\n",
        "    elif operation == \"Division\":\n",
        "        if num2 == 0:\n",
        "            st.error(\"Error! Division by zero is not allowed.\")\n",
        "        else:\n",
        "            result = num1 / num2\n",
        "\n",
        "    # Display result\n",
        "    if result is not None:\n",
        "        st.success(f\"The result of {operation} is: {result}\")\n",
        "\n",
        "if __name__ == \"__main__\":\n",
        "    main()\n"
      ]
    },
    {
      "cell_type": "code",
      "execution_count": null,
      "metadata": {
        "id": "K7MmTJP-DMfX"
      },
      "outputs": [],
      "source": [
        "from google.colab import drive\n",
        "drive.mount('/content/drive')"
      ]
    }
  ],
  "metadata": {
    "colab": {
      "provenance": [],
      "authorship_tag": "ABX9TyNA/vrQmsGWyQnwgz5QZKxP",
      "include_colab_link": true
    },
    "kernelspec": {
      "display_name": "Python 3",
      "name": "python3"
    },
    "language_info": {
      "name": "python"
    }
  },
  "nbformat": 4,
  "nbformat_minor": 0
}