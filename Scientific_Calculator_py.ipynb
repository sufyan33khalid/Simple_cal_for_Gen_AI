{
  "nbformat": 4,
  "nbformat_minor": 0,
  "metadata": {
    "colab": {
      "provenance": [],
      "authorship_tag": "ABX9TyNWznREzVvLs1x4DOPJKxuq",
      "include_colab_link": true
    },
    "kernelspec": {
      "name": "python3",
      "display_name": "Python 3"
    },
    "language_info": {
      "name": "python"
    }
  },
  "cells": [
    {
      "cell_type": "markdown",
      "metadata": {
        "id": "view-in-github",
        "colab_type": "text"
      },
      "source": [
        "<a href=\"https://colab.research.google.com/github/sufyan33khalid/Simple_cal_for_Gen_AI/blob/main/Scientific_Calculator_py.ipynb\" target=\"_parent\"><img src=\"https://colab.research.google.com/assets/colab-badge.svg\" alt=\"Open In Colab\"/></a>"
      ]
    },
    {
      "cell_type": "code",
      "execution_count": 3,
      "metadata": {
        "colab": {
          "base_uri": "https://localhost:8080/",
          "height": 383
        },
        "id": "zqXnOZGQ1agX",
        "outputId": "66b3c6c9-984f-4386-8aba-d1d2a0d24407"
      },
      "outputs": [
        {
          "output_type": "error",
          "ename": "ModuleNotFoundError",
          "evalue": "No module named 'streamlit'",
          "traceback": [
            "\u001b[0;31m---------------------------------------------------------------------------\u001b[0m",
            "\u001b[0;31mModuleNotFoundError\u001b[0m                       Traceback (most recent call last)",
            "\u001b[0;32m<ipython-input-3-ed6f8a254481>\u001b[0m in \u001b[0;36m<cell line: 1>\u001b[0;34m()\u001b[0m\n\u001b[0;32m----> 1\u001b[0;31m \u001b[0;32mimport\u001b[0m \u001b[0mstreamlit\u001b[0m \u001b[0;32mas\u001b[0m \u001b[0mst\u001b[0m\u001b[0;34m\u001b[0m\u001b[0;34m\u001b[0m\u001b[0m\n\u001b[0m\u001b[1;32m      2\u001b[0m \u001b[0;32mimport\u001b[0m \u001b[0mmath\u001b[0m\u001b[0;34m\u001b[0m\u001b[0;34m\u001b[0m\u001b[0m\n\u001b[1;32m      3\u001b[0m \u001b[0;32mimport\u001b[0m \u001b[0mmatplotlib\u001b[0m\u001b[0;34m.\u001b[0m\u001b[0mpyplot\u001b[0m \u001b[0;32mas\u001b[0m \u001b[0mplt\u001b[0m\u001b[0;34m\u001b[0m\u001b[0;34m\u001b[0m\u001b[0m\n\u001b[1;32m      4\u001b[0m \u001b[0;32mimport\u001b[0m \u001b[0mnumpy\u001b[0m \u001b[0;32mas\u001b[0m \u001b[0mnp\u001b[0m\u001b[0;34m\u001b[0m\u001b[0;34m\u001b[0m\u001b[0m\n\u001b[1;32m      5\u001b[0m \u001b[0;34m\u001b[0m\u001b[0m\n",
            "\u001b[0;31mModuleNotFoundError\u001b[0m: No module named 'streamlit'",
            "",
            "\u001b[0;31m---------------------------------------------------------------------------\u001b[0;32m\nNOTE: If your import is failing due to a missing package, you can\nmanually install dependencies using either !pip or !apt.\n\nTo view examples of installing some common dependencies, click the\n\"Open Examples\" button below.\n\u001b[0;31m---------------------------------------------------------------------------\u001b[0m\n"
          ],
          "errorDetails": {
            "actions": [
              {
                "action": "open_url",
                "actionText": "Open Examples",
                "url": "/notebooks/snippets/importing_libraries.ipynb"
              }
            ]
          }
        }
      ],
      "source": [
        "import streamlit as st\n",
        "import math\n",
        "import matplotlib.pyplot as plt\n",
        "import numpy as np\n",
        "\n",
        "# Define mathematical operations\n",
        "def add(x, y):\n",
        "    return x + y\n",
        "\n",
        "def subtract(x, y):\n",
        "    return x - y\n",
        "\n",
        "def multiply(x, y):\n",
        "    return x * y\n",
        "\n",
        "def divide(x, y):\n",
        "    if y != 0:\n",
        "        return x / y\n",
        "    else:\n",
        "        return \"Cannot divide by zero!\"\n",
        "\n",
        "def power(x, y):\n",
        "    return x ** y\n",
        "\n",
        "def sqrt(x):\n",
        "    return math.sqrt(x)\n",
        "\n",
        "def log(x):\n",
        "    if x > 0:\n",
        "        return math.log(x)\n",
        "    else:\n",
        "        return \"Logarithm not defined for non-positive values.\"\n",
        "\n",
        "def sin(x):\n",
        "    return math.sin(math.radians(x))\n",
        "\n",
        "def cos(x):\n",
        "    return math.cos(math.radians(x))\n",
        "\n",
        "def tan(x):\n",
        "    return math.tan(math.radians(x))\n",
        "\n",
        "# Create scientific calculator interface with Streamlit\n",
        "def scientific_calculator():\n",
        "    st.title(\"Scientific Calculator with Graph\")\n",
        "\n",
        "    # Dropdown menu for selecting the operation\n",
        "    operation = st.selectbox(\n",
        "        \"Select operation:\",\n",
        "        (\"Add\", \"Subtract\", \"Multiply\", \"Divide\", \"Power\", \"Square Root\",\n",
        "         \"Logarithm\", \"Sine\", \"Cosine\", \"Tangent\")\n",
        "    )\n",
        "\n",
        "    # Input for numbers or angle (in case of trigonometric functions)\n",
        "    if operation in ['Add', 'Subtract', 'Multiply', 'Divide', 'Power']:\n",
        "        num1 = st.number_input(\"Enter first number:\")\n",
        "        num2 = st.number_input(\"Enter second number:\")\n",
        "    elif operation == 'Square Root' or operation == 'Logarithm':\n",
        "        num = st.number_input(\"Enter a number:\")\n",
        "    else:\n",
        "        angle = st.number_input(\"Enter angle in degrees:\")\n",
        "\n",
        "    # Red submit button\n",
        "    submit = st.button(\"Submit\", key=\"submit_button\", help=\"Click to calculate\",\n",
        "                       on_click=None, args=None, kwargs=None)\n",
        "    st.markdown(\n",
        "        \"\"\"<style> div.stButton > button:first-child { background-color: red; color: white; } </style>\"\"\",\n",
        "        unsafe_allow_html=True\n",
        "    )\n",
        "\n",
        "    # Perform calculation when the button is pressed\n",
        "    if submit:\n",
        "        result = None\n",
        "        if operation == 'Add':\n",
        "            result = add(num1, num2)\n",
        "        elif operation == 'Subtract':\n",
        "            result = subtract(num1, num2)\n",
        "        elif operation == 'Multiply':\n",
        "            result = multiply(num1, num2)\n",
        "        elif operation == 'Divide':\n",
        "            result = divide(num1, num2)\n",
        "        elif operation == 'Power':\n",
        "            result = power(num1, num2)\n",
        "        elif operation == 'Square Root':\n",
        "            result = sqrt(num)\n"
      ]
    }
  ]
}